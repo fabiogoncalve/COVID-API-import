{
 "cells": [
  {
   "cell_type": "markdown",
   "source": [
    "# Fábio Gonçalves\r\n",
    "## Sprint #4 - Covid API Data\r\n",
    "https://covid19-api.vost.pt/\r\n",
    "\r\n",
    "**HTML_CODES**  \r\n",
    "https://developer.mozilla.org/pt-BR/docs/Web/HTTP/Status\r\n",
    "\r\n",
    "\r\n",
    "**Usage of**\r\n",
    "* resquests\r\n",
    "* pandas\r\n",
    "* graphics\r\n",
    "* functions\r\n",
    "* widgets\r\n",
    "\r\n",
    "**Objectives**\r\n",
    "1. From COVID API import data using funcions and requests\r\n",
    "1. Convert ```['confirmados_novos', 'internados', 'internados_uci']``` to pandas\r\n",
    "1. Describe ```['confirmados_novos', 'internados', 'internados_uci']```\r\n",
    "1. Make a Box plot of ``['confirmados_novos', 'internados', 'internados_uci']```\r\n",
    "1. Make a evolution plot of confirmados_novos with moving average\r\n",
    "1. Make a Widget version with selection dates and combo box\r\n",
    "1. Make a summary conclusion"
   ],
   "metadata": {}
  },
  {
   "cell_type": "code",
   "execution_count": 1,
   "source": [
    "import requests\r\n",
    "import matplotlib.pyplot as plt\r\n",
    "import pandas as pd \r\n",
    "\r\n",
    "def print_table(data_incio,data_fim):\r\n",
    "    \r\n",
    "    result = requests.get(f'https://covid19-api.vost.pt/Requests/get_entry/{data_incio}_until_{data_fim}')\r\n",
    "    \r\n",
    "    if result.status_code==200:\r\n",
    "        data_pack = ['confirmados_novos', 'internados', 'internados_uci']\r\n",
    "        datas = result.json()['data'].values()\r\n",
    "        dict_ = {}\r\n",
    "        for el in data_pack:\r\n",
    "            dict_[el] = result.json()[(el)].values()\r\n",
    "            #table_center=table_int.style.set_properties(**{'text-align': 'center'})\r\n",
    "            df = pd.DataFrame(dict_ , datas)\r\n",
    "            #df.tail()\r\n",
    "        return df\r\n",
    "    else:\r\n",
    "        print('Error fetching data')\r\n",
    "        \r\n",
    "def plot_grafico(table_covid):\r\n",
    "    \r\n",
    "    graph=table_covid.plot().plot(figsize=(16,9)) #NÃO AUMENTA O TAMANHO\r\n",
    "    plt.grid()\r\n",
    "    plt.title('Gráfico de evlução do Covid19 nos ultimos 3 meses')\r\n",
    "    plt.ylabel('Nº de pessoas')\r\n",
    "    plt.xlabel('Data')\r\n",
    "    return graph\r\n",
    "\r\n",
    "def box_plot_grafico(table_covid):\r\n",
    "    \r\n",
    "    confirmados_novos=table_covid['confirmados_novos']\r\n",
    "    internados=table_covid['internados']\r\n",
    "    internados_uci=table_covid['internados_uci']\r\n",
    "    df=internados.boxplot()\r\n",
    "    return print(df)\r\n",
    "        "
   ],
   "outputs": [],
   "metadata": {}
  },
  {
   "cell_type": "code",
   "execution_count": 2,
   "source": [
    "#Print tabela de covid dentro de um range de datas\r\n",
    "table_covid=print_table('11-05-2021', '10-08-2021')\r\n",
    "table_covid\r\n"
   ],
   "outputs": [
    {
     "output_type": "execute_result",
     "data": {
      "text/html": [
       "<div>\n",
       "<style scoped>\n",
       "    .dataframe tbody tr th:only-of-type {\n",
       "        vertical-align: middle;\n",
       "    }\n",
       "\n",
       "    .dataframe tbody tr th {\n",
       "        vertical-align: top;\n",
       "    }\n",
       "\n",
       "    .dataframe thead th {\n",
       "        text-align: right;\n",
       "    }\n",
       "</style>\n",
       "<table border=\"1\" class=\"dataframe\">\n",
       "  <thead>\n",
       "    <tr style=\"text-align: right;\">\n",
       "      <th></th>\n",
       "      <th>confirmados_novos</th>\n",
       "      <th>internados</th>\n",
       "      <th>internados_uci</th>\n",
       "    </tr>\n",
       "  </thead>\n",
       "  <tbody>\n",
       "    <tr>\n",
       "      <th>11-05-2021</th>\n",
       "      <td>268</td>\n",
       "      <td>257.0</td>\n",
       "      <td>71.0</td>\n",
       "    </tr>\n",
       "    <tr>\n",
       "      <th>12-05-2021</th>\n",
       "      <td>485</td>\n",
       "      <td>248.0</td>\n",
       "      <td>71.0</td>\n",
       "    </tr>\n",
       "    <tr>\n",
       "      <th>13-05-2021</th>\n",
       "      <td>436</td>\n",
       "      <td>244.0</td>\n",
       "      <td>70.0</td>\n",
       "    </tr>\n",
       "    <tr>\n",
       "      <th>14-05-2021</th>\n",
       "      <td>450</td>\n",
       "      <td>236.0</td>\n",
       "      <td>72.0</td>\n",
       "    </tr>\n",
       "    <tr>\n",
       "      <th>15-05-2021</th>\n",
       "      <td>469</td>\n",
       "      <td>223.0</td>\n",
       "      <td>71.0</td>\n",
       "    </tr>\n",
       "    <tr>\n",
       "      <th>...</th>\n",
       "      <td>...</td>\n",
       "      <td>...</td>\n",
       "      <td>...</td>\n",
       "    </tr>\n",
       "    <tr>\n",
       "      <th>05-08-2021</th>\n",
       "      <td>2581</td>\n",
       "      <td>898.0</td>\n",
       "      <td>196.0</td>\n",
       "    </tr>\n",
       "    <tr>\n",
       "      <th>06-08-2021</th>\n",
       "      <td>2377</td>\n",
       "      <td>866.0</td>\n",
       "      <td>194.0</td>\n",
       "    </tr>\n",
       "    <tr>\n",
       "      <th>07-08-2021</th>\n",
       "      <td>2621</td>\n",
       "      <td>838.0</td>\n",
       "      <td>186.0</td>\n",
       "    </tr>\n",
       "    <tr>\n",
       "      <th>08-08-2021</th>\n",
       "      <td>1982</td>\n",
       "      <td>849.0</td>\n",
       "      <td>184.0</td>\n",
       "    </tr>\n",
       "    <tr>\n",
       "      <th>09-08-2021</th>\n",
       "      <td>1094</td>\n",
       "      <td>857.0</td>\n",
       "      <td>189.0</td>\n",
       "    </tr>\n",
       "  </tbody>\n",
       "</table>\n",
       "<p>91 rows × 3 columns</p>\n",
       "</div>"
      ],
      "text/plain": [
       "            confirmados_novos  internados  internados_uci\n",
       "11-05-2021                268       257.0            71.0\n",
       "12-05-2021                485       248.0            71.0\n",
       "13-05-2021                436       244.0            70.0\n",
       "14-05-2021                450       236.0            72.0\n",
       "15-05-2021                469       223.0            71.0\n",
       "...                       ...         ...             ...\n",
       "05-08-2021               2581       898.0           196.0\n",
       "06-08-2021               2377       866.0           194.0\n",
       "07-08-2021               2621       838.0           186.0\n",
       "08-08-2021               1982       849.0           184.0\n",
       "09-08-2021               1094       857.0           189.0\n",
       "\n",
       "[91 rows x 3 columns]"
      ]
     },
     "metadata": {},
     "execution_count": 2
    }
   ],
   "metadata": {}
  },
  {
   "cell_type": "code",
   "execution_count": 3,
   "source": [
    "#plt grafico dos casos nos utimos 3 meses\r\n",
    "plot_grafico(table_covid)\r\n",
    "plot_grafico"
   ],
   "outputs": [
    {
     "output_type": "execute_result",
     "data": {
      "text/plain": [
       "<function __main__.plot_grafico(table_covid)>"
      ]
     },
     "metadata": {},
     "execution_count": 3
    },
    {
     "output_type": "display_data",
     "data": {
      "image/png": "[encoded data removed]",
      "text/plain": [
       "<Figure size 432x288 with 1 Axes>"
      ]
     },
     "metadata": {
      "needs_background": "light"
     }
    }
   ],
   "metadata": {}
  },
  {
   "cell_type": "code",
   "execution_count": 4,
   "source": [
    "#box plot dos casos nos utimos 3 meses\r\n",
    "box_plot_grafico(table_covid)\r\n",
    "#box_plot_grafico"
   ],
   "outputs": [
    {
     "output_type": "error",
     "ename": "AttributeError",
     "evalue": "'Series' object has no attribute 'boxplot'",
     "traceback": [
      "\u001b[0;31m---------------------------------------------------------------------------\u001b[0m",
      "\u001b[0;31mAttributeError\u001b[0m                            Traceback (most recent call last)",
      "\u001b[0;32m/tmp/ipykernel_19751/647054846.py\u001b[0m in \u001b[0;36m<module>\u001b[0;34m\u001b[0m\n\u001b[1;32m      1\u001b[0m \u001b[0;31m#box plot dos casos nos utimos 3 meses\u001b[0m\u001b[0;34m\u001b[0m\u001b[0;34m\u001b[0m\u001b[0;34m\u001b[0m\u001b[0m\n\u001b[0;32m----> 2\u001b[0;31m \u001b[0mbox_plot_grafico\u001b[0m\u001b[0;34m(\u001b[0m\u001b[0mtable_covid\u001b[0m\u001b[0;34m)\u001b[0m\u001b[0;34m\u001b[0m\u001b[0;34m\u001b[0m\u001b[0m\n\u001b[0m\u001b[1;32m      3\u001b[0m \u001b[0;31m#box_plot_grafico\u001b[0m\u001b[0;34m\u001b[0m\u001b[0;34m\u001b[0m\u001b[0;34m\u001b[0m\u001b[0m\n",
      "\u001b[0;32m/tmp/ipykernel_19751/2996299354.py\u001b[0m in \u001b[0;36mbox_plot_grafico\u001b[0;34m(table_covid)\u001b[0m\n\u001b[1;32m     34\u001b[0m     \u001b[0minternados\u001b[0m\u001b[0;34m=\u001b[0m\u001b[0mtable_covid\u001b[0m\u001b[0;34m[\u001b[0m\u001b[0;34m'internados'\u001b[0m\u001b[0;34m]\u001b[0m\u001b[0;34m\u001b[0m\u001b[0;34m\u001b[0m\u001b[0m\n\u001b[1;32m     35\u001b[0m     \u001b[0minternados_uci\u001b[0m\u001b[0;34m=\u001b[0m\u001b[0mtable_covid\u001b[0m\u001b[0;34m[\u001b[0m\u001b[0;34m'internados_uci'\u001b[0m\u001b[0;34m]\u001b[0m\u001b[0;34m\u001b[0m\u001b[0;34m\u001b[0m\u001b[0m\n\u001b[0;32m---> 36\u001b[0;31m     \u001b[0mdf\u001b[0m\u001b[0;34m=\u001b[0m\u001b[0minternados\u001b[0m\u001b[0;34m.\u001b[0m\u001b[0mboxplot\u001b[0m\u001b[0;34m(\u001b[0m\u001b[0;34m)\u001b[0m\u001b[0;34m\u001b[0m\u001b[0;34m\u001b[0m\u001b[0m\n\u001b[0m\u001b[1;32m     37\u001b[0m     \u001b[0;32mreturn\u001b[0m \u001b[0mprint\u001b[0m\u001b[0;34m(\u001b[0m\u001b[0mdf\u001b[0m\u001b[0;34m)\u001b[0m\u001b[0;34m\u001b[0m\u001b[0;34m\u001b[0m\u001b[0m\n\u001b[1;32m     38\u001b[0m \u001b[0;34m\u001b[0m\u001b[0m\n",
      "\u001b[0;32m/opt/conda/lib/python3.9/site-packages/pandas/core/generic.py\u001b[0m in \u001b[0;36m__getattr__\u001b[0;34m(self, name)\u001b[0m\n\u001b[1;32m   5476\u001b[0m         ):\n\u001b[1;32m   5477\u001b[0m             \u001b[0;32mreturn\u001b[0m \u001b[0mself\u001b[0m\u001b[0;34m[\u001b[0m\u001b[0mname\u001b[0m\u001b[0;34m]\u001b[0m\u001b[0;34m\u001b[0m\u001b[0;34m\u001b[0m\u001b[0m\n\u001b[0;32m-> 5478\u001b[0;31m         \u001b[0;32mreturn\u001b[0m \u001b[0mobject\u001b[0m\u001b[0;34m.\u001b[0m\u001b[0m__getattribute__\u001b[0m\u001b[0;34m(\u001b[0m\u001b[0mself\u001b[0m\u001b[0;34m,\u001b[0m \u001b[0mname\u001b[0m\u001b[0;34m)\u001b[0m\u001b[0;34m\u001b[0m\u001b[0;34m\u001b[0m\u001b[0m\n\u001b[0m\u001b[1;32m   5479\u001b[0m \u001b[0;34m\u001b[0m\u001b[0m\n\u001b[1;32m   5480\u001b[0m     \u001b[0;32mdef\u001b[0m \u001b[0m__setattr__\u001b[0m\u001b[0;34m(\u001b[0m\u001b[0mself\u001b[0m\u001b[0;34m,\u001b[0m \u001b[0mname\u001b[0m\u001b[0;34m:\u001b[0m \u001b[0mstr\u001b[0m\u001b[0;34m,\u001b[0m \u001b[0mvalue\u001b[0m\u001b[0;34m)\u001b[0m \u001b[0;34m->\u001b[0m \u001b[0;32mNone\u001b[0m\u001b[0;34m:\u001b[0m\u001b[0;34m\u001b[0m\u001b[0;34m\u001b[0m\u001b[0m\n",
      "\u001b[0;31mAttributeError\u001b[0m: 'Series' object has no attribute 'boxplot'"
     ]
    }
   ],
   "metadata": {
    "tags": []
   }
  },
  {
   "cell_type": "code",
   "execution_count": null,
   "source": [],
   "outputs": [],
   "metadata": {}
  },
  {
   "cell_type": "code",
   "execution_count": null,
   "source": [],
   "outputs": [],
   "metadata": {}
  }
 ],
 "metadata": {
  "kernelspec": {
   "name": "python3",
   "display_name": "Python 3.9.6 64-bit"
  },
  "language_info": {
   "codemirror_mode": {
    "name": "ipython",
    "version": 3
   },
   "file_extension": ".py",
   "mimetype": "text/x-python",
   "name": "python",
   "nbconvert_exporter": "python",
   "pygments_lexer": "ipython3",
   "version": "3.9.6"
  },
  "interpreter": {
   "hash": "2bde4fd2e0dc4efc2839696aa1f8021a4e2b874d7308824c6561e0e718291e11"
  }
 },
 "nbformat": 4,
 "nbformat_minor": 5
}